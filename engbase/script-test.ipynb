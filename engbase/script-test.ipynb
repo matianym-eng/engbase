{
 "cells": [
  {
   "cell_type": "code",
   "execution_count": 19,
   "id": "68af605b",
   "metadata": {
    "ExecuteTime": {
     "end_time": "2021-04-21T18:49:21.718063Z",
     "start_time": "2021-04-21T18:49:21.641361Z"
    }
   },
   "outputs": [
    {
     "name": "stdout",
     "output_type": "stream",
     "text": [
      "The autoreload extension is already loaded. To reload it, use:\n",
      "  %reload_ext autoreload\n"
     ]
    }
   ],
   "source": [
    "%load_ext autoreload\n",
    "%autoreload 2"
   ]
  },
  {
   "cell_type": "code",
   "execution_count": 20,
   "id": "4498f0df",
   "metadata": {
    "ExecuteTime": {
     "end_time": "2021-04-21T18:49:21.907732Z",
     "start_time": "2021-04-21T18:49:21.837043Z"
    }
   },
   "outputs": [],
   "source": [
    "from quint import Q"
   ]
  },
  {
   "cell_type": "code",
   "execution_count": 21,
   "id": "6b7a3119",
   "metadata": {
    "ExecuteTime": {
     "end_time": "2021-04-21T18:49:22.112275Z",
     "start_time": "2021-04-21T18:49:22.043593Z"
    }
   },
   "outputs": [
    {
     "data": {
      "text/html": [
       "0.2 meter/second"
      ],
      "text/latex": [
       "$0.2\\ \\frac{\\mathrm{meter}}{\\mathrm{second}}$"
      ],
      "text/plain": [
       "0.2 <Unit('meter / second')>"
      ]
     },
     "execution_count": 21,
     "metadata": {},
     "output_type": "execute_result"
    }
   ],
   "source": [
    "l = Q(1,'m')\n",
    "t = Q(5,'s')\n",
    "l/t"
   ]
  },
  {
   "cell_type": "code",
   "execution_count": 22,
   "id": "6ffe0bba",
   "metadata": {
    "ExecuteTime": {
     "end_time": "2021-04-21T18:49:22.356036Z",
     "start_time": "2021-04-21T18:49:22.288332Z"
    }
   },
   "outputs": [],
   "source": [
    "import pint\n",
    "\n"
   ]
  },
  {
   "cell_type": "code",
   "execution_count": 23,
   "id": "a1eaac66",
   "metadata": {
    "ExecuteTime": {
     "end_time": "2021-04-21T18:49:22.579789Z",
     "start_time": "2021-04-21T18:49:22.511607Z"
    }
   },
   "outputs": [
    {
     "data": {
      "text/plain": [
       "'C:\\\\Users\\\\matinyma\\\\Miniconda3\\\\envs\\\\engbase\\\\lib\\\\site-packages\\\\pint\\\\__init__.py'"
      ]
     },
     "execution_count": 23,
     "metadata": {},
     "output_type": "execute_result"
    }
   ],
   "source": [
    "pint.__file__"
   ]
  },
  {
   "cell_type": "code",
   "execution_count": 24,
   "id": "d5ef90a4",
   "metadata": {
    "ExecuteTime": {
     "end_time": "2021-04-21T18:49:22.804898Z",
     "start_time": "2021-04-21T18:49:22.722200Z"
    }
   },
   "outputs": [],
   "source": [
    "from pint import Quantity, UnitRegistry"
   ]
  },
  {
   "cell_type": "code",
   "execution_count": 25,
   "id": "393f5a56",
   "metadata": {
    "ExecuteTime": {
     "end_time": "2021-04-21T18:49:23.217136Z",
     "start_time": "2021-04-21T18:49:22.935888Z"
    }
   },
   "outputs": [],
   "source": [
    "\n",
    "ureg = UnitRegistry()"
   ]
  },
  {
   "cell_type": "code",
   "execution_count": null,
   "id": "c0097f4f",
   "metadata": {},
   "outputs": [],
   "source": []
  }
 ],
 "metadata": {
  "kernelspec": {
   "display_name": "Python 3",
   "language": "python",
   "name": "python3"
  },
  "language_info": {
   "codemirror_mode": {
    "name": "ipython",
    "version": 3
   },
   "file_extension": ".py",
   "mimetype": "text/x-python",
   "name": "python",
   "nbconvert_exporter": "python",
   "pygments_lexer": "ipython3",
   "version": "3.8.8"
  }
 },
 "nbformat": 4,
 "nbformat_minor": 5
}
